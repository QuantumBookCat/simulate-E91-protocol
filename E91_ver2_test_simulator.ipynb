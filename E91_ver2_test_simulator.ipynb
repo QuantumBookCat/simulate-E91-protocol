{
 "cells": [
  {
   "cell_type": "code",
   "execution_count": 1,
   "metadata": {},
   "outputs": [],
   "source": [
    "from qiskit import QuantumCircuit, ClassicalRegister, QuantumRegister\n",
    "import numpy as np\n",
    "import qiskit\n",
    "%matplotlib inline"
   ]
  },
  {
   "cell_type": "code",
   "execution_count": 2,
   "metadata": {},
   "outputs": [
    {
     "data": {
      "text/html": [
       "<pre style=\"word-wrap: normal;white-space: pre;line-height: 15px;\">        ┌───┐      ░ \n",
       "q_0: |0>┤ H ├──■───░─\n",
       "        └───┘┌─┴─┐ ░ \n",
       "q_1: |0>─────┤ X ├─░─\n",
       "        ┌───┐└───┘ ░ \n",
       "q_2: |0>┤ H ├──■───░─\n",
       "        └───┘┌─┴─┐ ░ \n",
       "q_3: |0>─────┤ X ├─░─\n",
       "             └───┘ ░ </pre>"
      ],
      "text/plain": [
       "<qiskit.visualization.text.TextDrawing at 0x7fb4400575f8>"
      ]
     },
     "execution_count": 2,
     "metadata": {},
     "output_type": "execute_result"
    }
   ],
   "source": [
    "n=4\n",
    "\n",
    "#EPR\n",
    "q = QuantumRegister(n,'q')\n",
    "EPR_circ = QuantumCircuit(q)\n",
    "\n",
    "for i in range(n):\n",
    "    if i%2==0:\n",
    "        EPR_circ.h(q[i])\n",
    "        EPR_circ.cx(q[i],q[i+1])\n",
    "\n",
    "EPR_circ.barrier(q)\n",
    "EPR_circ.draw()"
   ]
  },
  {
   "cell_type": "code",
   "execution_count": 3,
   "metadata": {},
   "outputs": [
    {
     "data": {
      "text/html": [
       "<pre style=\"word-wrap: normal;white-space: pre;line-height: 15px;\">        ┌───┐      ░ ┌─┐              \n",
       "q_0: |0>┤ H ├──■───░─┤M├──────────────\n",
       "        └───┘┌─┴─┐ ░ └╥┘┌─┐           \n",
       "q_1: |0>─────┤ X ├─░──╫─┤M├───────────\n",
       "        ┌───┐└───┘ ░  ║ └╥┘┌───┐┌─┐   \n",
       "q_2: |0>┤ H ├──■───░──╫──╫─┤ H ├┤M├───\n",
       "        └───┘┌─┴─┐ ░  ║  ║ ├───┤└╥┘┌─┐\n",
       "q_3: |0>─────┤ X ├─░──╫──╫─┤ H ├─╫─┤M├\n",
       "             └───┘ ░  ║  ║ └───┘ ║ └╥┘\n",
       " c_0: 0 ══════════════╩══╬═══════╬══╬═\n",
       "                         ║       ║  ║ \n",
       " c_1: 0 ═════════════════╩═══════╬══╬═\n",
       "                                 ║  ║ \n",
       " c_2: 0 ═════════════════════════╩══╬═\n",
       "                                    ║ \n",
       " c_3: 0 ════════════════════════════╩═\n",
       "                                      </pre>"
      ],
      "text/plain": [
       "<qiskit.visualization.text.TextDrawing at 0x7fb43e71c320>"
      ]
     },
     "execution_count": 3,
     "metadata": {},
     "output_type": "execute_result"
    }
   ],
   "source": [
    "c = ClassicalRegister(n,'c')\n",
    "AB_circ = QuantumCircuit(q,c)\n",
    "\n",
    "AB_circ.h(q[2])\n",
    "AB_circ.h(q[3])\n",
    "#AB_circ.h(q[5])\n",
    "#AB_circ.h(q[6])\n",
    "\n",
    "AB_circ.measure(q,c)\n",
    "qc = EPR_circ + AB_circ\n",
    "qc.draw()"
   ]
  },
  {
   "cell_type": "code",
   "execution_count": 4,
   "metadata": {},
   "outputs": [
    {
     "name": "stdout",
     "output_type": "stream",
     "text": [
      "[<IBMQBackend('ibmqx4') from IBMQ()>, <IBMQBackend('ibmqx2') from IBMQ()>, <IBMQBackend('ibmq_16_melbourne') from IBMQ()>, <IBMQSimulator('ibmq_qasm_simulator') from IBMQ()>]\n"
     ]
    }
   ],
   "source": [
    "from qiskit import IBMQ\n",
    "api_token = ''\n",
    "IBMQ.enable_account(api_token)\n",
    "backend_list = IBMQ.backends()\n",
    "print(backend_list)\n",
    "backend_sim = IBMQ.get_backend('ibmq_qasm_simulator')"
   ]
  },
  {
   "cell_type": "code",
   "execution_count": 5,
   "metadata": {},
   "outputs": [
    {
     "name": "stderr",
     "output_type": "stream",
     "text": [
      "Got a 400 code response to /api/Jobs: {\"error\":{\"status\":400,\"message\":\"Generic error\",\"code\":\"GENERIC_ERROR\"}}\n",
      "Got a 400 code response to /api/Jobs: {\"error\":{\"status\":400,\"message\":\"Generic error\",\"code\":\"GENERIC_ERROR\"}}\n",
      "Got a 400 code response to /api/Jobs: {\"error\":{\"status\":400,\"message\":\"Generic error\",\"code\":\"GENERIC_ERROR\"}}\n",
      "Got a 400 code response to /api/Jobs: {\"error\":{\"status\":400,\"message\":\"Generic error\",\"code\":\"GENERIC_ERROR\"}}\n",
      "Got a 400 code response to /api/Jobs: {\"error\":{\"status\":400,\"message\":\"Generic error\",\"code\":\"GENERIC_ERROR\"}}\n"
     ]
    },
    {
     "ename": "JobError",
     "evalue": "\"{'status': 400, 'message': 'Generic error', 'code': 'GENERIC_ERROR'}\"",
     "output_type": "error",
     "traceback": [
      "\u001b[0;31m---------------------------------------------------------------------------\u001b[0m",
      "\u001b[0;31mJobError\u001b[0m                                  Traceback (most recent call last)",
      "\u001b[0;32m<ipython-input-5-d9a03c667b5e>\u001b[0m in \u001b[0;36m<module>\u001b[0;34m\u001b[0m\n\u001b[1;32m      1\u001b[0m \u001b[0mjob_sim\u001b[0m \u001b[0;34m=\u001b[0m \u001b[0mqiskit\u001b[0m\u001b[0;34m.\u001b[0m\u001b[0mexecute\u001b[0m\u001b[0;34m(\u001b[0m\u001b[0mqc\u001b[0m\u001b[0;34m,\u001b[0m\u001b[0mbackend_sim\u001b[0m\u001b[0;34m,\u001b[0m\u001b[0mshots\u001b[0m\u001b[0;34m=\u001b[0m\u001b[0;36m5\u001b[0m\u001b[0;34m)\u001b[0m\u001b[0;34m\u001b[0m\u001b[0;34m\u001b[0m\u001b[0m\n\u001b[0;32m----> 2\u001b[0;31m \u001b[0mresult_sim\u001b[0m \u001b[0;34m=\u001b[0m \u001b[0mjob_sim\u001b[0m\u001b[0;34m.\u001b[0m\u001b[0mresult\u001b[0m\u001b[0;34m(\u001b[0m\u001b[0;34m)\u001b[0m\u001b[0;34m\u001b[0m\u001b[0;34m\u001b[0m\u001b[0m\n\u001b[0m\u001b[1;32m      3\u001b[0m \u001b[0mcounts\u001b[0m \u001b[0;34m=\u001b[0m \u001b[0mresult_sim\u001b[0m\u001b[0;34m.\u001b[0m\u001b[0mget_counts\u001b[0m\u001b[0;34m(\u001b[0m\u001b[0mqc\u001b[0m\u001b[0;34m)\u001b[0m\u001b[0;34m\u001b[0m\u001b[0;34m\u001b[0m\u001b[0m\n\u001b[1;32m      4\u001b[0m \u001b[0mprint\u001b[0m\u001b[0;34m(\u001b[0m\u001b[0mcounts\u001b[0m\u001b[0;34m)\u001b[0m\u001b[0;34m\u001b[0m\u001b[0;34m\u001b[0m\u001b[0m\n\u001b[1;32m      5\u001b[0m \u001b[0;32mfrom\u001b[0m \u001b[0mqiskit\u001b[0m\u001b[0;34m.\u001b[0m\u001b[0mvisualization\u001b[0m \u001b[0;32mimport\u001b[0m \u001b[0mplot_histogram\u001b[0m\u001b[0;34m\u001b[0m\u001b[0;34m\u001b[0m\u001b[0m\n",
      "\u001b[0;32m~/anaconda3/envs/QIS/lib/python3.7/site-packages/qiskit/providers/ibmq/ibmqjob.py\u001b[0m in \u001b[0;36mresult\u001b[0;34m(self, timeout, wait)\u001b[0m\n\u001b[1;32m    225\u001b[0m             \u001b[0mJobError\u001b[0m\u001b[0;34m:\u001b[0m \u001b[0;32mif\u001b[0m \u001b[0mattempted\u001b[0m \u001b[0mto\u001b[0m \u001b[0mrecover\u001b[0m \u001b[0ma\u001b[0m \u001b[0mresult\u001b[0m \u001b[0mon\u001b[0m \u001b[0ma\u001b[0m \u001b[0mfailed\u001b[0m \u001b[0mjob\u001b[0m\u001b[0;34m.\u001b[0m\u001b[0;34m\u001b[0m\u001b[0;34m\u001b[0m\u001b[0m\n\u001b[1;32m    226\u001b[0m         \"\"\"\n\u001b[0;32m--> 227\u001b[0;31m         \u001b[0mself\u001b[0m\u001b[0;34m.\u001b[0m\u001b[0m_wait_for_completion\u001b[0m\u001b[0;34m(\u001b[0m\u001b[0mtimeout\u001b[0m\u001b[0;34m=\u001b[0m\u001b[0mtimeout\u001b[0m\u001b[0;34m,\u001b[0m \u001b[0mwait\u001b[0m\u001b[0;34m=\u001b[0m\u001b[0mwait\u001b[0m\u001b[0;34m)\u001b[0m\u001b[0;34m\u001b[0m\u001b[0;34m\u001b[0m\u001b[0m\n\u001b[0m\u001b[1;32m    228\u001b[0m \u001b[0;34m\u001b[0m\u001b[0m\n\u001b[1;32m    229\u001b[0m         \u001b[0mstatus\u001b[0m \u001b[0;34m=\u001b[0m \u001b[0mself\u001b[0m\u001b[0;34m.\u001b[0m\u001b[0mstatus\u001b[0m\u001b[0;34m(\u001b[0m\u001b[0;34m)\u001b[0m\u001b[0;34m\u001b[0m\u001b[0;34m\u001b[0m\u001b[0m\n",
      "\u001b[0;32m~/anaconda3/envs/QIS/lib/python3.7/site-packages/qiskit/providers/ibmq/ibmqjob.py\u001b[0m in \u001b[0;36m_wait_for_completion\u001b[0;34m(self, timeout, wait)\u001b[0m\n\u001b[1;32m    470\u001b[0m                 \u001b[0mspecified\u001b[0m \u001b[0mtimeout\u001b[0m\u001b[0;34m.\u001b[0m\u001b[0;34m\u001b[0m\u001b[0;34m\u001b[0m\u001b[0m\n\u001b[1;32m    471\u001b[0m         \"\"\"\n\u001b[0;32m--> 472\u001b[0;31m         \u001b[0mself\u001b[0m\u001b[0;34m.\u001b[0m\u001b[0m_wait_for_submission\u001b[0m\u001b[0;34m(\u001b[0m\u001b[0mtimeout\u001b[0m\u001b[0;34m)\u001b[0m\u001b[0;34m\u001b[0m\u001b[0;34m\u001b[0m\u001b[0m\n\u001b[0m\u001b[1;32m    473\u001b[0m \u001b[0;34m\u001b[0m\u001b[0m\n\u001b[1;32m    474\u001b[0m         \u001b[0;31m# TODO: reenable during #61.\u001b[0m\u001b[0;34m\u001b[0m\u001b[0;34m\u001b[0m\u001b[0;34m\u001b[0m\u001b[0m\n",
      "\u001b[0;32m~/anaconda3/envs/QIS/lib/python3.7/site-packages/qiskit/providers/ibmq/ibmqjob.py\u001b[0m in \u001b[0;36m_wait_for_submission\u001b[0;34m(self, timeout)\u001b[0m\n\u001b[1;32m    496\u001b[0m                 \u001b[0mself\u001b[0m\u001b[0;34m.\u001b[0m\u001b[0m_status\u001b[0m \u001b[0;34m=\u001b[0m \u001b[0mJobStatus\u001b[0m\u001b[0;34m.\u001b[0m\u001b[0mERROR\u001b[0m\u001b[0;34m\u001b[0m\u001b[0;34m\u001b[0m\u001b[0m\n\u001b[1;32m    497\u001b[0m                 \u001b[0mself\u001b[0m\u001b[0;34m.\u001b[0m\u001b[0m_api_error_msg\u001b[0m \u001b[0;34m=\u001b[0m \u001b[0mstr\u001b[0m\u001b[0;34m(\u001b[0m\u001b[0msubmit_info\u001b[0m\u001b[0;34m[\u001b[0m\u001b[0;34m'error'\u001b[0m\u001b[0;34m]\u001b[0m\u001b[0;34m)\u001b[0m\u001b[0;34m\u001b[0m\u001b[0;34m\u001b[0m\u001b[0m\n\u001b[0;32m--> 498\u001b[0;31m                 \u001b[0;32mraise\u001b[0m \u001b[0mJobError\u001b[0m\u001b[0;34m(\u001b[0m\u001b[0mstr\u001b[0m\u001b[0;34m(\u001b[0m\u001b[0msubmit_info\u001b[0m\u001b[0;34m[\u001b[0m\u001b[0;34m'error'\u001b[0m\u001b[0;34m]\u001b[0m\u001b[0;34m)\u001b[0m\u001b[0;34m)\u001b[0m\u001b[0;34m\u001b[0m\u001b[0;34m\u001b[0m\u001b[0m\n\u001b[0m\u001b[1;32m    499\u001b[0m \u001b[0;34m\u001b[0m\u001b[0m\n\u001b[1;32m    500\u001b[0m     \u001b[0;32mdef\u001b[0m \u001b[0m_wait_for_final_status\u001b[0m\u001b[0;34m(\u001b[0m\u001b[0mself\u001b[0m\u001b[0;34m,\u001b[0m \u001b[0mtimeout\u001b[0m\u001b[0;34m=\u001b[0m\u001b[0;32mNone\u001b[0m\u001b[0;34m,\u001b[0m \u001b[0mwait\u001b[0m\u001b[0;34m=\u001b[0m\u001b[0;36m5\u001b[0m\u001b[0;34m)\u001b[0m\u001b[0;34m:\u001b[0m\u001b[0;34m\u001b[0m\u001b[0;34m\u001b[0m\u001b[0m\n",
      "\u001b[0;31mJobError\u001b[0m: \"{'status': 400, 'message': 'Generic error', 'code': 'GENERIC_ERROR'}\""
     ]
    }
   ],
   "source": [
    "job_sim = qiskit.execute(qc,backend_sim,shots=5)\n",
    "result_sim = job_sim.result()\n",
    "counts = result_sim.get_counts(qc)\n",
    "print(counts)\n",
    "from qiskit.visualization import plot_histogram\n",
    "plot_histogram(counts)"
   ]
  },
  {
   "cell_type": "code",
   "execution_count": null,
   "metadata": {},
   "outputs": [],
   "source": [
    "from qiskit import IBMQ\n",
    "#api_token = ''\n",
    "IBMQ.save_account('')\n",
    "IBMQ.enable_account('')\n",
    "backend_list = IBMQ.backends()\n",
    "print(backend_list)\n",
    "backend_sim = IBMQ.get_backend('ibmq_qasm_simulator')\n",
    "job_sim = qiskit.execute(qc,backend_sim,shots=1024)\n",
    "result_sim = job_sim.result()\n",
    "counts = result_sim.get_counts(qc)\n",
    "print(counts)\n",
    "from qiskit.visualization import plot_histogram\n",
    "plot_histogram(counts)"
   ]
  },
  {
   "cell_type": "code",
   "execution_count": null,
   "metadata": {},
   "outputs": [],
   "source": []
  }
 ],
 "metadata": {
  "kernelspec": {
   "display_name": "Python 3",
   "language": "python",
   "name": "python3"
  },
  "language_info": {
   "codemirror_mode": {
    "name": "ipython",
    "version": 3
   },
   "file_extension": ".py",
   "mimetype": "text/x-python",
   "name": "python",
   "nbconvert_exporter": "python",
   "pygments_lexer": "ipython3",
   "version": "3.7.2"
  }
 },
 "nbformat": 4,
 "nbformat_minor": 2
}
