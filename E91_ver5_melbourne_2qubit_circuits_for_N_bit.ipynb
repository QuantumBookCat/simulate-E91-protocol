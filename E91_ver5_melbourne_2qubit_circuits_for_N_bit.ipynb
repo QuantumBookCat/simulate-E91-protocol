{
 "cells": [
  {
   "cell_type": "code",
   "execution_count": 1,
   "metadata": {},
   "outputs": [],
   "source": [
    "from qiskit import QuantumCircuit, ClassicalRegister, QuantumRegister\n",
    "import numpy as np\n",
    "import qiskit\n",
    "%matplotlib inline"
   ]
  },
  {
   "cell_type": "code",
   "execution_count": 2,
   "metadata": {},
   "outputs": [
    {
     "data": {
      "text/html": [
       "<pre style=\"word-wrap: normal;white-space: pre;line-height: 15px;\">             ┌───┐ ░ \n",
       "q_0: |0>─────┤ X ├─░─\n",
       "        ┌───┐└─┬─┘ ░ \n",
       "q_1: |0>┤ H ├──■───░─\n",
       "        └───┘      ░ \n",
       " c_0: 0 ═════════════\n",
       "                     \n",
       " c_1: 0 ═════════════\n",
       "                     \n",
       " c_2: 0 ═════════════\n",
       "                     \n",
       " c_3: 0 ═════════════\n",
       "                     </pre>"
      ],
      "text/plain": [
       "<qiskit.visualization.text.TextDrawing at 0x7fd71281e240>"
      ]
     },
     "execution_count": 2,
     "metadata": {},
     "output_type": "execute_result"
    }
   ],
   "source": [
    "# EPR\n",
    "q = QuantumRegister(2,'q')\n",
    "c = ClassicalRegister(4,'c')\n",
    "\n",
    "EPR_circ = QuantumCircuit(q,c)\n",
    "EPR_circ.h(q[1]) # q[1] for Bob\n",
    "EPR_circ.cx(q[1],q[0]) # q[0] for Alice\n",
    "EPR_circ.barrier(q)\n",
    "EPR_circ.draw()"
   ]
  },
  {
   "cell_type": "code",
   "execution_count": 3,
   "metadata": {},
   "outputs": [
    {
     "data": {
      "text/plain": [
       "<qiskit.circuit.measure.Measure at 0x7fd71276fda0>"
      ]
     },
     "execution_count": 3,
     "metadata": {},
     "output_type": "execute_result"
    }
   ],
   "source": [
    "# Alice measurement\n",
    "A1 = QuantumCircuit(q,c) # Z basis\n",
    "A1.measure(q[0],c[0])\n",
    "\n",
    "#A2 = QuantumCircuit(q,c)\n",
    "\n",
    "A3 = QuantumCircuit(q,c) # X basis\n",
    "A3.h(q[0])\n",
    "A3.measure(q[0],c[0])\n",
    "\n",
    "#A1.draw()\n",
    "#A3.draw()\n",
    "\n",
    "# Bob measurement\n",
    "#B1 = QuantumCircuit(q,c) \n",
    "\n",
    "B2 = QuantumCircuit(q,c) # X basis\n",
    "B2.h(q[1])\n",
    "B2.measure(q[1],c[1])\n",
    "\n",
    "B3 = QuantumCircuit(q,c) # Z basis\n",
    "B3.measure(q[1],c[1])\n",
    "\n",
    "#B2.draw()\n",
    "#B3.draw()"
   ]
  },
  {
   "cell_type": "code",
   "execution_count": 4,
   "metadata": {},
   "outputs": [
    {
     "name": "stdout",
     "output_type": "stream",
     "text": [
      "Alice_basis A1(0)(Z) or A3(1)(X) : [1, 1, 0, 1, 0, 1, 0, 0, 0, 0, 1, 0, 1, 0, 0, 1, 0, 0, 1, 1, 1, 0, 0, 0, 1, 1, 0, 1, 0, 0, 1, 1, 0, 0, 1, 0, 0, 1, 1, 1, 0, 1, 1, 1, 0, 0, 1, 0, 1, 1, 0, 1, 0, 0, 1, 1, 0, 0, 1, 1, 1, 0, 0, 0, 1, 1, 1, 1, 1, 0]\n",
      "Bob_basis   B3(0)(Z) or B2(1)(X) : [1, 1, 0, 1, 0, 1, 0, 0, 0, 0, 0, 0, 1, 0, 0, 0, 1, 0, 0, 1, 1, 1, 1, 0, 0, 1, 0, 0, 0, 1, 1, 0, 1, 1, 0, 1, 1, 1, 1, 0, 1, 1, 0, 0, 0, 1, 1, 0, 1, 1, 0, 0, 1, 1, 1, 1, 1, 1, 0, 0, 0, 0, 0, 0, 1, 0, 0, 0, 0, 1]\n"
     ]
    }
   ],
   "source": [
    "n=70 # n ERP pairs\n",
    "\n",
    "import random\n",
    "def random_01str(list,num):\n",
    "    for i in range(num):\n",
    "        list.append(random.randint(0,1))\n",
    "        \n",
    "Alice_basis=[]\n",
    "Bob_basis=[]\n",
    "\n",
    "Alice_basis.clear()\n",
    "Bob_basis.clear()\n",
    "\n",
    "random_01str(Alice_basis,n)\n",
    "random_01str(Bob_basis,n)\n",
    "\n",
    "print(\"Alice_basis A1(0)(Z) or A3(1)(X) : {}\".format(Alice_basis))\n",
    "print(\"Bob_basis   B3(0)(Z) or B2(1)(X) : {}\".format(Bob_basis))"
   ]
  },
  {
   "cell_type": "code",
   "execution_count": 5,
   "metadata": {},
   "outputs": [
    {
     "data": {
      "text/html": [
       "<pre style=\"word-wrap: normal;white-space: pre;line-height: 15px;\">             ┌───┐ ░ ┌───┐┌─┐   \n",
       "q_0: |0>─────┤ X ├─░─┤ H ├┤M├───\n",
       "        ┌───┐└─┬─┘ ░ ├───┤└╥┘┌─┐\n",
       "q_1: |0>┤ H ├──■───░─┤ H ├─╫─┤M├\n",
       "        └───┘      ░ └───┘ ║ └╥┘\n",
       " c_0: 0 ═══════════════════╩══╬═\n",
       "                              ║ \n",
       " c_1: 0 ══════════════════════╩═\n",
       "                                \n",
       " c_2: 0 ════════════════════════\n",
       "                                \n",
       " c_3: 0 ════════════════════════\n",
       "                                </pre>"
      ],
      "text/plain": [
       "<qiskit.visualization.text.TextDrawing at 0x7fd71276f588>"
      ]
     },
     "execution_count": 5,
     "metadata": {},
     "output_type": "execute_result"
    }
   ],
   "source": [
    "Alice_circ = [A1,A3]\n",
    "Bob_circ = [B3,B2]\n",
    "\n",
    "circuits=[]\n",
    "circuits.clear()\n",
    "\n",
    "for i in range(n):\n",
    "    OneCircuit = EPR_circ + Alice_circ[Alice_basis[i]] + Bob_circ[Bob_basis[i]]\n",
    "    \n",
    "    #if Alice_basis[i]==0:\n",
    "    #    OneCircuit += A1 \n",
    "    #elif Alice_basis[i]==1:\n",
    "    #    OneCircuit += A3\n",
    "    \n",
    "    #if Bob_basis[i]==0:\n",
    "    #    OneCircuit += B3 \n",
    "    #elif Bob_basis[i]==1:\n",
    "    #    OneCircuit += B2\n",
    "    \n",
    "    circuits.append(OneCircuit)\n",
    "      \n",
    "circuits[0].draw()"
   ]
  },
  {
   "cell_type": "code",
   "execution_count": 6,
   "metadata": {},
   "outputs": [
    {
     "name": "stdout",
     "output_type": "stream",
     "text": [
      "[<IBMQBackend('ibmqx4') from IBMQ()>, <IBMQBackend('ibmqx2') from IBMQ()>, <IBMQBackend('ibmq_16_melbourne') from IBMQ()>, <IBMQSimulator('ibmq_qasm_simulator') from IBMQ()>]\n",
      "{'0010': 1}\n"
     ]
    },
    {
     "data": {
      "image/png": "[encoded data removed]",
      "text/plain": [
       "<Figure size 504x360 with 1 Axes>"
      ]
     },
     "execution_count": 6,
     "metadata": {},
     "output_type": "execute_result"
    }
   ],
   "source": [
    "from qiskit import IBMQ\n",
    "api_token = ''\n",
    "IBMQ.enable_account(api_token)\n",
    "backend_list = IBMQ.backends()\n",
    "print(backend_list)\n",
    "backend = IBMQ.get_backend('ibmq_16_melbourne')\n",
    "\n",
    "job_sim = qiskit.execute(circuits, backend, shots=1)\n",
    "result_sim = job_sim.result()\n",
    "\n",
    "counts = result_sim.get_counts(circuits[0])\n",
    "print(counts)\n",
    "from qiskit.visualization import plot_histogram\n",
    "plot_histogram(counts)"
   ]
  },
  {
   "cell_type": "code",
   "execution_count": 7,
   "metadata": {},
   "outputs": [
    {
     "name": "stdout",
     "output_type": "stream",
     "text": [
      "Alice_result = [0, 1, 1, 1, 0, 1, 1, 0, 1, 1, 0, 1, 0, 1, 0, 1, 1, 1, 0, 0, 1, 1, 1, 1, 1, 0, 0, 0, 1, 1, 1, 1, 1, 0, 1, 1, 1, 1, 1, 1, 1, 1, 0, 0, 1, 1, 1, 0, 1, 0, 1, 0, 0, 0, 1, 0, 0, 1, 0, 0, 1, 1, 1, 0, 1, 1, 1, 0, 1, 1]\n",
      "Bob_result   = [1, 1, 0, 0, 0, 0, 0, 1, 0, 1, 1, 1, 0, 0, 0, 0, 1, 0, 0, 0, 1, 1, 0, 0, 0, 0, 0, 0, 0, 0, 1, 0, 1, 1, 0, 1, 1, 0, 0, 1, 0, 1, 1, 1, 0, 0, 1, 0, 1, 1, 1, 1, 0, 1, 1, 0, 0, 0, 1, 0, 0, 0, 0, 1, 1, 0, 1, 0, 1, 0]\n"
     ]
    }
   ],
   "source": [
    "# result = list(result.get_counts(circuits[i]))[0]\n",
    "Alice_result=[]\n",
    "Bob_result=[]\n",
    "\n",
    "Alice_result.clear()\n",
    "Bob_result.clear()\n",
    "\n",
    "for i in range(n):\n",
    "    Alice_result.append(int((list(result_sim.get_counts(circuits[i]))[0])[3]))\n",
    "    Bob_result.append(int((list(result_sim.get_counts(circuits[i]))[0])[2]))\n",
    "    \n",
    "print(\"Alice_result = {}\".format(Alice_result))\n",
    "print(\"Bob_result   = {}\".format(Bob_result))"
   ]
  },
  {
   "cell_type": "code",
   "execution_count": 8,
   "metadata": {},
   "outputs": [
    {
     "name": "stdout",
     "output_type": "stream",
     "text": [
      "pos= [0, 1, 2, 3, 4, 5, 6, 7, 8, 9, 11, 12, 13, 14, 17, 19, 20, 23, 25, 26, 28, 30, 37, 38, 41, 44, 46, 47, 48, 49, 50, 54, 55, 61, 62, 63, 64]\n",
      "key1   = [0, 1, 1, 1, 0, 1, 1, 0, 1, 1, 1, 0, 1, 0, 1, 0, 1, 1, 0, 0, 1, 1, 1, 1, 1, 1, 1, 0, 1, 0, 1, 1, 0, 1, 1, 0, 1]\n"
     ]
    }
   ],
   "source": [
    "#Check the same basis\n",
    "\n",
    "pos=[]\n",
    "key1=[]\n",
    "\n",
    "pos.clear()\n",
    "key1.clear()\n",
    "\n",
    "for i in range(n):\n",
    "    if Alice_basis[i]==Bob_basis[i]:\n",
    "        pos.append(i)\n",
    "        key1.append(Alice_result[i])\n",
    "\n",
    "print(\"pos= {}\".format(pos))\n",
    "print(\"key1   = {}\".format(key1))\n",
    "\n",
    "key2=key1"
   ]
  },
  {
   "cell_type": "code",
   "execution_count": 9,
   "metadata": {},
   "outputs": [
    {
     "name": "stdout",
     "output_type": "stream",
     "text": [
      "check pos = 11,  Alice 1 = Bob 1\n",
      "check pos = 48,  Alice 1 = Bob 1\n",
      "check pos = 8 Alice 1 != Bob 0\n",
      "different qubit has been found\n",
      "check pos = 41,  Alice 1 = Bob 1\n",
      "check pos = 26,  Alice 0 = Bob 0\n",
      "check pos = 44 Alice 1 != Bob 0\n",
      "different qubit has been found\n",
      "check pos = 19,  Alice 0 = Bob 0\n",
      "check pos = 1,  Alice 1 = Bob 1\n",
      "check pos = 28 Alice 1 != Bob 0\n",
      "different qubit has been found\n",
      "check pos = 9,  Alice 1 = Bob 1\n",
      "check pos = 64,  Alice 1 = Bob 1\n",
      "check pos = 49 Alice 0 != Bob 1\n",
      "different qubit has been found\n",
      "check pos = 37 Alice 1 != Bob 0\n",
      "different qubit has been found\n",
      "check pos = 20,  Alice 1 = Bob 1\n",
      "check pos = 23 Alice 1 != Bob 0\n",
      "different qubit has been found\n",
      "check pos = 13 Alice 1 != Bob 0\n",
      "different qubit has been found\n",
      "check pos = 30,  Alice 1 = Bob 1\n",
      "check pos = 25,  Alice 0 = Bob 0\n",
      "key2 = [0, 1, 1, 0, 1, 1, 0, 0, 0, 1, 1, 1, 0, 1, 1, 0, 1, 1, 0]\n",
      "accuracy = 61.111111111111114%\n"
     ]
    }
   ],
   "source": [
    "# Check result (whether Alice's qubit is measured the same as Bob's)\n",
    "\n",
    "num=len(key2)\n",
    "total_times=len(key2)//2\n",
    "right_times = 0\n",
    "\n",
    "for i in range(total_times):\n",
    "    rand=random.randint(0,num-1)\n",
    "    if Alice_result[pos[rand]]==Bob_result[pos[rand]]:\n",
    "        right_times+=1\n",
    "        print(\"check pos = {}, \".format(pos[rand]),end=' ')\n",
    "        print(\"Alice {} = Bob {}\".format(Alice_result[pos[rand]],Bob_result[pos[rand]]))\n",
    "    else :\n",
    "        print(\"check pos = {}\".format(pos[rand]),end=' ')\n",
    "        print(\"Alice {} != Bob {}\".format(Alice_result[pos[rand]],Bob_result[pos[rand]]))\n",
    "        print(\"different qubit has been found\")\n",
    "\n",
    "    del key2[rand]\n",
    "    del pos[rand]\n",
    "    num-=1\n",
    "    \n",
    "print(\"key2 = {}\".format(key2))\n",
    "acc=(right_times/total_times)\n",
    "print(\"accuracy = {}%\".format(acc*100))"
   ]
  },
  {
   "cell_type": "code",
   "execution_count": 10,
   "metadata": {},
   "outputs": [],
   "source": [
    "# Eve measurement\n",
    "E1_A = QuantumCircuit(q,c) # Z basis for Alice's\n",
    "E1_A.measure(q[0],c[2])\n",
    "\n",
    "E2_A = QuantumCircuit(q,c) # X basis for Alice's\n",
    "E2_A.h(q[0])\n",
    "E2_A.measure(q[0],c[2])\n",
    "\n",
    "E3_A = QuantumCircuit(q,c) # don't measure\n",
    "\n",
    "E1_B = QuantumCircuit(q,c) # Z basis for Bob's\n",
    "E1_B.measure(q[1],c[3])\n",
    "\n",
    "E2_B = QuantumCircuit(q,c) # X basis for Bobs\n",
    "E2_B.h(q[1])\n",
    "E2_B.measure(q[1],c[3])\n",
    "\n",
    "E3_B = QuantumCircuit(q,c) # don't measure\n",
    "\n",
    "#E1_A.draw()\n",
    "#E2_A.draw()\n",
    "#E3_A.draw()\n",
    "#E1_B.draw()\n",
    "#E2_B.draw()\n",
    "#E3_B.draw()"
   ]
  },
  {
   "cell_type": "code",
   "execution_count": 11,
   "metadata": {},
   "outputs": [
    {
     "name": "stdout",
     "output_type": "stream",
     "text": [
      "Eve_basis_for_Alice E1_A(0)(Z) or E2_A(1)(X) or E3_A(2)(don't measure) : [0, 2, 0, 0, 0, 1, 0, 1, 2, 1, 2, 1, 0, 2, 1, 0, 2, 0, 2, 1, 0, 2, 1, 0, 1, 0, 2, 1, 2, 1, 2, 2, 2, 2, 1, 1, 2, 0, 1, 0, 2, 2, 0, 2, 2, 2, 1, 2, 2, 1, 0, 0, 0, 2, 1, 2, 1, 1, 2, 0, 0, 2, 2, 0, 1, 0, 2, 0, 2, 2]\n",
      "Eve_basis_for_Bob   E1_B(0)(Z) or E2_B(1)(X) or E3_B(2)(don't measure) : [2, 0, 2, 2, 2, 1, 0, 2, 0, 2, 2, 2, 1, 2, 0, 0, 1, 1, 1, 2, 1, 0, 0, 1, 0, 1, 0, 1, 2, 0, 2, 0, 2, 0, 0, 2, 2, 0, 0, 2, 0, 2, 2, 0, 0, 1, 0, 0, 2, 1, 1, 0, 1, 1, 1, 0, 1, 1, 0, 0, 0, 0, 2, 0, 1, 2, 0, 1, 0, 2]\n"
     ]
    }
   ],
   "source": [
    "def EveRandom_01str(list,num):\n",
    "    for i in range(num):\n",
    "        list.append(random.randint(0,2))\n",
    "\n",
    "Eve_basis_for_Alice=[]\n",
    "Eve_basis_for_Bob=[]\n",
    "\n",
    "Eve_basis_for_Alice.clear()\n",
    "Eve_basis_for_Bob.clear()\n",
    "\n",
    "EveRandom_01str(Eve_basis_for_Alice,n)\n",
    "EveRandom_01str(Eve_basis_for_Bob,n)\n",
    "\n",
    "print(\"Eve_basis_for_Alice E1_A(0)(Z) or E2_A(1)(X) or E3_A(2)(don't measure) : {}\".format(Eve_basis_for_Alice))\n",
    "print(\"Eve_basis_for_Bob   E1_B(0)(Z) or E2_B(1)(X) or E3_B(2)(don't measure) : {}\".format(Eve_basis_for_Bob))"
   ]
  },
  {
   "cell_type": "code",
   "execution_count": 12,
   "metadata": {},
   "outputs": [
    {
     "data": {
      "text/html": [
       "<pre style=\"word-wrap: normal;white-space: pre;line-height: 15px;\">             ┌───┐ ░ ┌─┐     ┌───┐┌─┐\n",
       "q_0: |0>─────┤ X ├─░─┤M├─────┤ H ├┤M├\n",
       "        ┌───┐└─┬─┘ ░ └╥┘┌───┐└┬─┬┘└╥┘\n",
       "q_1: |0>┤ H ├──■───░──╫─┤ H ├─┤M├──╫─\n",
       "        └───┘      ░  ║ └───┘ └╥┘  ║ \n",
       " c_0: 0 ══════════════╬════════╬═══╩═\n",
       "                      ║        ║     \n",
       " c_1: 0 ══════════════╬════════╩═════\n",
       "                      ║              \n",
       " c_2: 0 ══════════════╩══════════════\n",
       "                                     \n",
       " c_3: 0 ═════════════════════════════\n",
       "                                     </pre>"
      ],
      "text/plain": [
       "<qiskit.visualization.text.TextDrawing at 0x7fd711e7fac8>"
      ]
     },
     "execution_count": 12,
     "metadata": {},
     "output_type": "execute_result"
    }
   ],
   "source": [
    "Eve_circ_for_Alice = [E1_A,E2_A,E3_A]\n",
    "Eve_circ_for_Bob = [E1_B,E2_B,E3_B]\n",
    "\n",
    "circuits_eve=[]\n",
    "circuits_eve.clear()\n",
    "\n",
    "for i in range(n):\n",
    "    OneCircuit_eve = EPR_circ + Eve_circ_for_Alice[Eve_basis_for_Alice[i]] + Eve_circ_for_Bob[Eve_basis_for_Bob[i]] + Alice_circ[Alice_basis[i]] + Bob_circ[Bob_basis[i]]\n",
    "    \n",
    "    circuits_eve.append(OneCircuit_eve)\n",
    "      \n",
    "circuits_eve[0].draw()"
   ]
  },
  {
   "cell_type": "code",
   "execution_count": 15,
   "metadata": {},
   "outputs": [
    {
     "name": "stdout",
     "output_type": "stream",
     "text": [
      "[<IBMQBackend('ibmqx4') from IBMQ()>, <IBMQBackend('ibmqx2') from IBMQ()>, <IBMQBackend('ibmq_16_melbourne') from IBMQ()>, <IBMQSimulator('ibmq_qasm_simulator') from IBMQ()>]\n",
      "{'0111': 1}\n"
     ]
    },
    {
     "data": {
      "image/png": "[encoded data removed]",
      "text/plain": [
       "<Figure size 504x360 with 1 Axes>"
      ]
     },
     "execution_count": 15,
     "metadata": {},
     "output_type": "execute_result"
    }
   ],
   "source": [
    "from qiskit import IBMQ\n",
    "api_token = ''\n",
    "IBMQ.enable_account(api_token)\n",
    "backend_list = IBMQ.backends()\n",
    "print(backend_list)\n",
    "backend = IBMQ.get_backend('ibmq_16_melbourne')\n",
    "\n",
    "job_eve = qiskit.execute(circuits_eve, backend, shots=1)\n",
    "result_eve = job_eve.result()\n",
    "\n",
    "counts_eve = result_eve.get_counts(circuits_eve[0])\n",
    "print(counts_eve)\n",
    "plot_histogram(counts_eve)"
   ]
  },
  {
   "cell_type": "code",
   "execution_count": 16,
   "metadata": {},
   "outputs": [
    {
     "name": "stdout",
     "output_type": "stream",
     "text": [
      "Alice_result_eve = [1, 0, 0, 0, 1, 1, 1, 0, 0, 0, 0, 0, 1, 1, 0, 0, 1, 1, 1, 0, 1, 1, 0, 0, 0, 1, 0, 1, 0, 0, 1, 0, 1, 1, 1, 0, 0, 0, 0, 0, 0, 1, 0, 0, 0, 0, 1, 1, 0, 1, 0, 1, 0, 1, 0, 0, 1, 0, 0, 1, 0, 1, 0, 0, 0, 1, 1, 1, 0, 1]\n",
      "Bob_result_eve   = [1, 0, 0, 0, 1, 1, 1, 0, 0, 1, 1, 1, 0, 1, 0, 1, 1, 0, 1, 1, 0, 0, 0, 1, 0, 0, 0, 0, 0, 1, 0, 1, 1, 1, 1, 0, 1, 0, 0, 0, 1, 0, 1, 0, 0, 0, 1, 0, 0, 0, 1, 0, 0, 0, 0, 0, 1, 0, 0, 0, 1, 1, 0, 0, 0, 1, 0, 1, 1, 1]\n"
     ]
    }
   ],
   "source": [
    "# result = list(result.get_counts(circuits[i]))[0]\n",
    "Alice_result_eve=[]\n",
    "Bob_result_eve=[]\n",
    "\n",
    "Alice_result_eve.clear()\n",
    "Bob_result_eve.clear()\n",
    "\n",
    "for i in range(n):\n",
    "    Alice_result_eve.append(int((list(result_eve.get_counts(circuits_eve[i]))[0])[3]))\n",
    "    Bob_result_eve.append(int((list(result_eve.get_counts(circuits_eve[i]))[0])[2]))\n",
    "    \n",
    "print(\"Alice_result_eve = {}\".format(Alice_result_eve))\n",
    "print(\"Bob_result_eve   = {}\".format(Bob_result_eve))"
   ]
  },
  {
   "cell_type": "code",
   "execution_count": 18,
   "metadata": {},
   "outputs": [
    {
     "name": "stdout",
     "output_type": "stream",
     "text": [
      "pos_eve= [0, 1, 2, 3, 4, 5, 6, 7, 8, 9, 11, 12, 13, 14, 17, 19, 20, 23, 25, 26, 28, 30, 37, 38, 41, 44, 46, 47, 48, 49, 50, 54, 55, 61, 62, 63, 64]\n",
      "key1_eve   = [1, 0, 0, 0, 1, 1, 1, 0, 0, 0, 0, 1, 1, 0, 1, 0, 1, 0, 1, 0, 0, 1, 0, 0, 1, 0, 1, 1, 0, 1, 0, 0, 0, 1, 0, 0, 0]\n"
     ]
    }
   ],
   "source": [
    "#Check the same basis\n",
    "\n",
    "pos_eve=[]\n",
    "key1_eve=[]\n",
    "\n",
    "pos_eve.clear()\n",
    "key1_eve.clear()\n",
    "\n",
    "for i in range(n):\n",
    "    if Alice_basis[i]==Bob_basis[i]:\n",
    "        pos_eve.append(i)\n",
    "        key1_eve.append(Alice_result_eve[i])\n",
    "\n",
    "print(\"pos_eve= {}\".format(pos_eve))\n",
    "print(\"key1_eve   = {}\".format(key1_eve))\n",
    "\n",
    "key2_eve=[]\n",
    "key2_eve.clear()\n",
    "\n",
    "key2_eve=key1_eve"
   ]
  },
  {
   "cell_type": "code",
   "execution_count": 19,
   "metadata": {},
   "outputs": [
    {
     "name": "stdout",
     "output_type": "stream",
     "text": [
      "check pos = 6,  Alice 1 = Bob 1\n",
      "check pos = 64,  Alice 0 = Bob 0\n",
      "check pos = 5,  Alice 1 = Bob 1\n",
      "check pos = 1,  Alice 0 = Bob 0\n",
      "check pos = 23 Alice 0 != Bob 1\n",
      "different qubit has been found\n",
      "check pos = 8,  Alice 0 = Bob 0\n",
      "check pos = 2,  Alice 0 = Bob 0\n",
      "check pos = 20 Alice 1 != Bob 0\n",
      "different qubit has been found\n",
      "check pos = 19 Alice 0 != Bob 1\n",
      "different qubit has been found\n",
      "check pos = 44,  Alice 0 = Bob 0\n",
      "check pos = 50 Alice 0 != Bob 1\n",
      "different qubit has been found\n",
      "check pos = 28,  Alice 0 = Bob 0\n",
      "check pos = 26,  Alice 0 = Bob 0\n",
      "check pos = 54,  Alice 0 = Bob 0\n",
      "check pos = 13,  Alice 1 = Bob 1\n",
      "check pos = 48,  Alice 0 = Bob 0\n",
      "check pos = 38,  Alice 0 = Bob 0\n",
      "check pos = 63,  Alice 0 = Bob 0\n",
      "key2_eve = [1, 0, 1, 0, 0, 0, 1, 0, 1, 1, 1, 0, 1, 1, 1, 1, 0, 1, 0]\n",
      "accuracy = 77.77777777777779%\n"
     ]
    }
   ],
   "source": [
    "# Check result (whether Alice's qubit is measured the same as Bob's)\n",
    "\n",
    "num_eve=len(key2_eve)\n",
    "total_times_eve=len(key2_eve)//2\n",
    "right_times_eve = 0\n",
    "\n",
    "for i in range(total_times_eve):\n",
    "    rand=random.randint(0,num_eve-1)\n",
    "    if Alice_result_eve[pos_eve[rand]]==Bob_result_eve[pos_eve[rand]]:\n",
    "        right_times_eve+=1\n",
    "        print(\"check pos = {}, \".format(pos_eve[rand]),end=' ')\n",
    "        print(\"Alice {} = Bob {}\".format(Alice_result_eve[pos_eve[rand]],Bob_result_eve[pos_eve[rand]]))\n",
    "    else :\n",
    "        print(\"check pos = {}\".format(pos_eve[rand]),end=' ')\n",
    "        print(\"Alice {} != Bob {}\".format(Alice_result_eve[pos_eve[rand]],Bob_result_eve[pos_eve[rand]]))\n",
    "        print(\"different qubit has been found\")\n",
    "\n",
    "    del key2_eve[rand]\n",
    "    del pos_eve[rand]\n",
    "    num_eve-=1\n",
    "    \n",
    "print(\"key2_eve = {}\".format(key2_eve))\n",
    "acc_eve=(right_times_eve/total_times_eve)\n",
    "print(\"accuracy = {}%\".format(acc_eve*100))"
   ]
  },
  {
   "cell_type": "code",
   "execution_count": 20,
   "metadata": {},
   "outputs": [
    {
     "name": "stdout",
     "output_type": "stream",
     "text": [
      "pos3_eve= [0, 1, 2, 3, 4, 5, 6, 7, 8, 9, 11, 12, 13, 14, 17, 19, 20, 23, 25, 26, 28, 30, 37, 38, 41, 44, 46, 47, 48, 49, 50, 54, 55, 61, 62, 63, 64]\n",
      "key3_eve   = [1, 0, 0, 0, 1, 1, 1, 0, 0, 0, 0, 1, 1, 0, 1, 0, 1, 0, 1, 0, 0, 1, 0, 0, 1, 0, 1, 1, 0, 1, 0, 0, 0, 1, 0, 0, 0]\n",
      "check pos = 7,  Alice 0 = Bob 0\n",
      "check pos = 62,  Alice 0 = Bob 0\n",
      "check pos = 3,  Alice 0 = Bob 0\n",
      "check pos = 30 Alice 1 != Bob 0\n",
      "different qubit has been found\n",
      "check pos = 28,  Alice 0 = Bob 0\n",
      "check pos = 0,  Alice 1 = Bob 1\n",
      "check pos = 63,  Alice 0 = Bob 0\n",
      "check pos = 5,  Alice 1 = Bob 1\n",
      "check pos = 8,  Alice 0 = Bob 0\n",
      "check pos = 61,  Alice 1 = Bob 1\n",
      "check pos = 19 Alice 0 != Bob 1\n",
      "different qubit has been found\n",
      "check pos = 50 Alice 0 != Bob 1\n",
      "different qubit has been found\n",
      "check pos = 48,  Alice 0 = Bob 0\n",
      "check pos = 55,  Alice 0 = Bob 0\n",
      "check pos = 37,  Alice 0 = Bob 0\n",
      "check pos = 20 Alice 1 != Bob 0\n",
      "different qubit has been found\n",
      "check pos = 6,  Alice 1 = Bob 1\n",
      "check pos = 11 Alice 0 != Bob 1\n",
      "different qubit has been found\n",
      "check pos = 49 Alice 1 != Bob 0\n",
      "different qubit has been found\n",
      "check pos = 14,  Alice 0 = Bob 0\n",
      "check pos = 64,  Alice 0 = Bob 0\n",
      "check pos = 44,  Alice 0 = Bob 0\n",
      "check pos = 23 Alice 0 != Bob 1\n",
      "different qubit has been found\n",
      "check pos = 46,  Alice 1 = Bob 1\n",
      "check pos = 38,  Alice 0 = Bob 0\n",
      "check pos = 1,  Alice 0 = Bob 0\n",
      "check pos = 2,  Alice 0 = Bob 0\n",
      "check pos = 25 Alice 1 != Bob 0\n",
      "different qubit has been found\n",
      "check pos = 4,  Alice 1 = Bob 1\n",
      "check pos = 17 Alice 1 != Bob 0\n",
      "different qubit has been found\n",
      "check pos = 41 Alice 1 != Bob 0\n",
      "different qubit has been found\n",
      "check pos = 26,  Alice 0 = Bob 0\n",
      "check pos = 13,  Alice 1 = Bob 1\n",
      "check pos = 9 Alice 0 != Bob 1\n",
      "different qubit has been found\n",
      "check pos = 47 Alice 1 != Bob 0\n",
      "different qubit has been found\n",
      "check pos = 54,  Alice 0 = Bob 0\n",
      "check pos = 12 Alice 1 != Bob 0\n",
      "different qubit has been found\n",
      "key3_eve = []\n",
      "accuracy = 64.86486486486487%\n"
     ]
    }
   ],
   "source": [
    "# Check all result (whether all Alice's qubits are measured the same as Bob's)\n",
    "\n",
    "pos3_eve=[]\n",
    "key3_eve=[]\n",
    "\n",
    "pos3_eve.clear()\n",
    "key3_eve.clear()\n",
    "\n",
    "for i in range(n):\n",
    "    if Alice_basis[i]==Bob_basis[i]:\n",
    "        pos3_eve.append(i)\n",
    "        key3_eve.append(Alice_result_eve[i])\n",
    "\n",
    "print(\"pos3_eve= {}\".format(pos3_eve))\n",
    "print(\"key3_eve   = {}\".format(key3_eve))\n",
    "\n",
    "\n",
    "\n",
    "#Check all result\n",
    "\n",
    "num_eve3=len(key3_eve)\n",
    "total_times_eve3=len(key3_eve)\n",
    "right_times_eve3 = 0\n",
    "\n",
    "for i in range(total_times_eve3):\n",
    "    rand=random.randint(0,num_eve3-1)\n",
    "    if Alice_result_eve[pos3_eve[rand]]==Bob_result_eve[pos3_eve[rand]]:\n",
    "        right_times_eve3+=1\n",
    "        print(\"check pos = {}, \".format(pos3_eve[rand]),end=' ')\n",
    "        print(\"Alice {} = Bob {}\".format(Alice_result_eve[pos3_eve[rand]],Bob_result_eve[pos3_eve[rand]]))\n",
    "    else :\n",
    "        print(\"check pos = {}\".format(pos3_eve[rand]),end=' ')\n",
    "        print(\"Alice {} != Bob {}\".format(Alice_result_eve[pos3_eve[rand]],Bob_result_eve[pos3_eve[rand]]))\n",
    "        print(\"different qubit has been found\")\n",
    "\n",
    "    del key3_eve[rand]\n",
    "    del pos3_eve[rand]\n",
    "    num_eve3-=1\n",
    "    \n",
    "print(\"key3_eve = {}\".format(key3_eve))\n",
    "acc_eve3=(right_times_eve3/total_times_eve3)\n",
    "print(\"accuracy = {}%\".format(acc_eve3*100))"
   ]
  },
  {
   "cell_type": "code",
   "execution_count": null,
   "metadata": {},
   "outputs": [],
   "source": []
  }
 ],
 "metadata": {
  "kernelspec": {
   "display_name": "Python 3",
   "language": "python",
   "name": "python3"
  },
  "language_info": {
   "codemirror_mode": {
    "name": "ipython",
    "version": 3
   },
   "file_extension": ".py",
   "mimetype": "text/x-python",
   "name": "python",
   "nbconvert_exporter": "python",
   "pygments_lexer": "ipython3",
   "version": "3.7.2"
  }
 },
 "nbformat": 4,
 "nbformat_minor": 2
}
